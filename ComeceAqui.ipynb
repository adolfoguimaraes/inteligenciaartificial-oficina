{
 "cells": [
  {
   "cell_type": "markdown",
   "metadata": {},
   "source": [
    "# Oficina de Inteligência Artificial\n",
    "\n",
    "## Roteiro\n",
    "\n",
    "1. Apresentação\n",
    "2. Introdução teórica\n",
    "3. Bot simples \n",
    "4. Modelo para Análise de Sentimento\n",
    "5. Modelo para Descrição de Imagens \n",
    "6. Utilizando GPT-3 com a API da OpenAI\n",
    "7. Testando o bot\n",
    "8. Encerramento"
   ]
  },
  {
   "cell_type": "markdown",
   "metadata": {},
   "source": [
    "## Apresentação "
   ]
  },
  {
   "cell_type": "markdown",
   "metadata": {},
   "source": [
    "## Introdução Teórica\n",
    "\n",
    "[Slides]"
   ]
  },
  {
   "cell_type": "markdown",
   "metadata": {},
   "source": [
    "## Bot Simples\n",
    "\n",
    "Para interagir com os modelos de Machine Learning vamos utilizar um bot no telegram. Para criar o bot você deve ter o telegram instalado e criar um bot a partir do usuário `BotFather`: https://t.me/BotFather. Siga o passo a passo e salve o token disponibilizado após a criação no arquivo `config.ini`. \n",
    "\n",
    "O bot está implementado na pasta `/bot/`. Na raiz do projeto, utilize o comando `python -m bot.run` para executar o bot. Acesse o bot criado no telegram para interagir com ele.\n",
    "\n"
   ]
  },
  {
   "cell_type": "markdown",
   "metadata": {},
   "source": [
    "## Modelo de Análise de Sentimento\n",
    "\n",
    "Para o modelo de análise de sentimento, vamos treinar um modelo de análise de sentimento em inglês baseado em textos que foram pré-classificados. Para isso, vamos utilizar uma biblioteca em Python, a `scikit-learn`: https://scikit-learn.org/. Os detalhes do modelo e o passo a passo para o treinamento está no arquivo `notebooks/AnaliseDeSentimento.ipynb`."
   ]
  },
  {
   "cell_type": "code",
   "execution_count": null,
   "metadata": {},
   "outputs": [],
   "source": []
  }
 ],
 "metadata": {
  "interpreter": {
   "hash": "d8d282dc22edfd0d4b283267c7a54114b1052a5bb59789f06b4f1db4edc34c44"
  },
  "kernelspec": {
   "display_name": "Python 3.9.12 ('inteligenciaartificial-oficina')",
   "language": "python",
   "name": "python3"
  },
  "language_info": {
   "codemirror_mode": {
    "name": "ipython",
    "version": 3
   },
   "file_extension": ".py",
   "mimetype": "text/x-python",
   "name": "python",
   "nbconvert_exporter": "python",
   "pygments_lexer": "ipython3",
   "version": "3.9.12"
  },
  "orig_nbformat": 4
 },
 "nbformat": 4,
 "nbformat_minor": 2
}
