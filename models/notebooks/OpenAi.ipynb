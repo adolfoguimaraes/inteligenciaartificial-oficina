{
  "cells": [
    {
      "cell_type": "markdown",
      "metadata": {
        "id": "view-in-github",
        "colab_type": "text"
      },
      "source": [
        "<a href=\"https://colab.research.google.com/github/adolfoguimaraes/inteligenciaartificial-oficina/blob/main/models/notebooks/OpenAi.ipynb\" target=\"_parent\"><img src=\"https://colab.research.google.com/assets/colab-badge.svg\" alt=\"Open In Colab\"/></a>"
      ]
    },
    {
      "cell_type": "code",
      "execution_count": null,
      "metadata": {
        "id": "rT1Le6uQ1KpT"
      },
      "outputs": [],
      "source": [
        "import os\n",
        "import openai\n",
        "import configparser"
      ]
    },
    {
      "cell_type": "code",
      "execution_count": null,
      "metadata": {
        "id": "ArtIDgQe1KpX"
      },
      "outputs": [],
      "source": [
        "config = configparser.ConfigParser()\n",
        "config.read(\"../../config.ini\")\n",
        "openai.api_key = config['OPENAI']['SECRETKEY']"
      ]
    },
    {
      "cell_type": "code",
      "execution_count": null,
      "metadata": {
        "id": "F7UV_xF41KpY"
      },
      "outputs": [],
      "source": [
        "def deleteFile(id):\n",
        "\n",
        "    return_ = openai.File.delete(id)\n",
        "\n",
        "    if (return_['deleted']):\n",
        "        print(\"Arquivo %s deletado.\" % id)\n",
        "    else:\n",
        "        print(\"Arquivo %s não deletado.\" % id)\n",
        "\n"
      ]
    },
    {
      "cell_type": "code",
      "execution_count": null,
      "metadata": {
        "id": "mWOBHAWh1Kpa"
      },
      "outputs": [],
      "source": [
        "def createFile(input):\n",
        "\n",
        "\n",
        "    data_file = openai.File.create(\n",
        "        file=open(input),\n",
        "        purpose=\"answers\"\n",
        "    )\n",
        "\n",
        "    print(\"Arquivo %s criado.\" % data_file['id'])\n",
        "\n",
        "    return data_file"
      ]
    },
    {
      "cell_type": "markdown",
      "metadata": {
        "id": "Kf0dA3Fi1Kpb"
      },
      "source": [
        "O método makeAnswer encapsula a função que envia os dados para a OpenAI e retorna a resposta. Para isso, precisamos informar qual o `input_file` (arquivo com os pares perguntas e respostas) e a `question` (a pergunta que será enviada)."
      ]
    },
    {
      "cell_type": "code",
      "execution_count": null,
      "metadata": {
        "id": "fkxY6Q0C1Kpd"
      },
      "outputs": [],
      "source": [
        "def makeAnswer(input_file, question, example_context, examples):\n",
        "\n",
        "    try:\n",
        "        return_ = openai.Answer.create(\n",
        "            search_model=\"davinci\",\n",
        "            model=\"davinci\",\n",
        "            question=question,\n",
        "            file=input_file,\n",
        "            examples_context=example_context,\n",
        "            examples=examples,\n",
        "            max_tokens=50,\n",
        "            stop=[\"\\n\", \"<|endoftext|>\"]\n",
        "        )\n",
        "    except Exception as e:\n",
        "        print(\"Não foi possível responder a sua pergunta.\")\n",
        "        print(e)\n",
        "        return_ = []\n",
        "\n",
        "    \n",
        "    return return_['answers'][0]\n",
        "\n",
        "    "
      ]
    },
    {
      "cell_type": "markdown",
      "metadata": {
        "id": "BffU0zOF1Kpf"
      },
      "source": [
        "## Exemplo simples de conversação.\n",
        "\n",
        "Para esse exemplo, vamos utilizar o arquivo `data.jsonl` que está na pasta `datasets/conversation`. Ele tem alguns pares de perguntas e respostas sobre uma pessoa. A idéia é verificar se com esse conjunto de textos, a máquina consegue responder as perguntas. "
      ]
    },
    {
      "cell_type": "code",
      "execution_count": null,
      "metadata": {
        "id": "O50V-Q7V1Kph",
        "outputId": "2186fcc6-32b2-4e71-85b0-35d119dcd0c6"
      },
      "outputs": [
        {
          "name": "stdout",
          "output_type": "stream",
          "text": [
            "Arquivo file-WfifZ6GkEVEitouNTddTfXUy criado.\n"
          ]
        }
      ],
      "source": [
        "# Cria o arquivo para conversação.\n",
        "dataFile = createFile(\"../datasets/conversation/data.jsonl\")"
      ]
    },
    {
      "cell_type": "markdown",
      "metadata": {
        "id": "V4-kd0zy1Kpi"
      },
      "source": [
        "Vamos fazer algumas perguntas: \n",
        "\n",
        "* Qual a profissão de João e onde ele trabalha?\n",
        "* Com quem João é casado?\n",
        "* O que a esposa de João faz?\n",
        "* João pretende ter filhos?\n",
        "* O que João gosta de assistir? \n",
        "* João gosta de assistir Friends. E sua esposa? \n",
        "* João ama quem? \n",
        "* Qual o nome do filho de João?\n"
      ]
    },
    {
      "cell_type": "code",
      "execution_count": null,
      "metadata": {
        "id": "kSxHXYyr1Kpj"
      },
      "outputs": [],
      "source": [
        "example_context_1 = \"João gosta de assistir a série Friends.\"\n",
        "examples_1 = [[\"O que João assiste na TV?\",\"A série Frieds.\"]]"
      ]
    },
    {
      "cell_type": "code",
      "execution_count": null,
      "metadata": {
        "id": "9EmOVZgy1Kpk",
        "outputId": "c4e73ae7-2299-4877-cbfa-4687afe6437f"
      },
      "outputs": [
        {
          "data": {
            "text/plain": [
              "'Ele é professor universitário.'"
            ]
          },
          "execution_count": 58,
          "metadata": {},
          "output_type": "execute_result"
        }
      ],
      "source": [
        "makeAnswer(dataFile['id'],'Qual a profissão de João e onde ele trabalha?', example_context_1, examples_1)"
      ]
    },
    {
      "cell_type": "markdown",
      "metadata": {
        "id": "RGiVGEm51Kpl"
      },
      "source": [
        "# Exemplo com uma base maior"
      ]
    },
    {
      "cell_type": "markdown",
      "metadata": {
        "id": "TzZS3dnT1Kpm"
      },
      "source": [
        "Vamos trabalhar com um contexto um pouco diferente. A proposta é criar um arquivo com uma série de perguntas e respostas sobre um determinado filme e ver como o modelo responde a perguntas relacionadas. Para montar o arquivo `starwars.jsonl`, utilizei algumas das perguntas e respostas disponíveis nestes links: \n",
        "\n",
        "* https://parade.com/1161189/alexandra-hurtado/star-wars-trivia/.\n",
        "* https://bigquizthing.com/blog-post/star-wars-trivia-questions-for-fun-game-night/"
      ]
    },
    {
      "cell_type": "code",
      "execution_count": null,
      "metadata": {
        "id": "5dXPNDQ81Kpm",
        "outputId": "38681904-3006-46d9-9d6d-1dae771a84fe"
      },
      "outputs": [
        {
          "name": "stdout",
          "output_type": "stream",
          "text": [
            "Arquivo file-ruakplgi1ad3SkF2osaaD6Sg criado.\n"
          ]
        }
      ],
      "source": [
        "# Limpando a lista de arquivos e criando o arquivo com os dados da conversação.\n",
        "dataFile2 = createFile(\"../datasets/conversation/starwars.jsonl\")"
      ]
    },
    {
      "cell_type": "code",
      "execution_count": null,
      "metadata": {
        "id": "Fd93DSq01Kpo",
        "outputId": "07f6b539-b0af-465f-dce6-52a7e820562e"
      },
      "outputs": [
        {
          "data": {
            "text/plain": [
              "'He is a famous Jedi.'"
            ]
          },
          "execution_count": 69,
          "metadata": {},
          "output_type": "execute_result"
        }
      ],
      "source": [
        "example_context_2 = \"Star Wars is a famous movie's serie. There are a lot of fans around the world\"\n",
        "examples_2 = [[\"What is Star Wars?\",\"A famous movie's serie.\"]]\n",
        "\n",
        "makeAnswer(dataFile2['id'],'What you know about Anakin Skywalker?', example_context_2, examples_2)"
      ]
    },
    {
      "cell_type": "code",
      "execution_count": null,
      "metadata": {
        "id": "iSFNH03B1Kpp"
      },
      "outputs": [],
      "source": [
        ""
      ]
    }
  ],
  "metadata": {
    "interpreter": {
      "hash": "d8d282dc22edfd0d4b283267c7a54114b1052a5bb59789f06b4f1db4edc34c44"
    },
    "kernelspec": {
      "display_name": "Python 3.9.12 ('inteligenciaartificial-oficina')",
      "language": "python",
      "name": "python3"
    },
    "language_info": {
      "codemirror_mode": {
        "name": "ipython",
        "version": 3
      },
      "file_extension": ".py",
      "mimetype": "text/x-python",
      "name": "python",
      "nbconvert_exporter": "python",
      "pygments_lexer": "ipython3",
      "version": "3.9.12"
    },
    "orig_nbformat": 4,
    "colab": {
      "name": "OpenAi.ipynb",
      "provenance": [],
      "include_colab_link": true
    }
  },
  "nbformat": 4,
  "nbformat_minor": 0
}