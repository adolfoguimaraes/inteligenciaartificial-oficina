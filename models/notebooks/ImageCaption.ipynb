{
 "cells": [
  {
   "cell_type": "code",
   "execution_count": null,
   "metadata": {},
   "outputs": [],
   "source": []
  }
 ],
 "metadata": {
  "interpreter": {
   "hash": "d8d282dc22edfd0d4b283267c7a54114b1052a5bb59789f06b4f1db4edc34c44"
  },
  "kernelspec": {
   "display_name": "Python 3.9.12 ('inteligenciaartificial-oficina')",
   "language": "python",
   "name": "python3"
  },
  "language_info": {
   "name": "python",
   "version": "3.9.12"
  },
  "orig_nbformat": 4
 },
 "nbformat": 4,
 "nbformat_minor": 2
}
